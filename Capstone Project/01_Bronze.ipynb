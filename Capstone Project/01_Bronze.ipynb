{
 "cells": [
  {
   "cell_type": "code",
   "execution_count": 0,
   "metadata": {
    "application/vnd.databricks.v1+cell": {
     "cellMetadata": {
      "byteLimit": 2048000,
      "rowLimit": 10000
     },
     "inputWidgets": {},
     "nuid": "c30f7f6e-1117-41a0-818e-070c937aa98f",
     "showTitle": true,
     "tableResultSettingsMap": {},
     "title": "Config"
    }
   },
   "outputs": [],
   "source": [
    "#define varibles use in the scripts\n",
    "catalog_name = \"capstone_aimie_dbk\"\n",
    "schema_name = \"medisure\"\n",
    "\n",
    "#storage path\n",
    "input_path = f\"/Volumes/{catalog_name}/{schema_name}/inputs\"\n",
    "schem_path = f\"/Volumes/{catalog_name}/{schema_name}/schem\"\n",
    "bronze_path = f\"/Volumes/{catalog_name}/{schema_name}/schem/bronze\"\n",
    "\n",
    "#imports\n",
    "from pyspark.sql.types import StructType, StructField, StringType, IntegerType, DoubleType, TimestampType, DateType, ArrayType, BooleanType"
   ]
  },
  {
   "cell_type": "code",
   "execution_count": 0,
   "metadata": {
    "application/vnd.databricks.v1+cell": {
     "cellMetadata": {
      "byteLimit": 2048000,
      "rowLimit": 10000
     },
     "inputWidgets": {},
     "nuid": "4d908a9d-94ab-42cd-af06-dacb7e22c2c8",
     "showTitle": true,
     "tableResultSettingsMap": {},
     "title": "Create Schema and Volume"
    }
   },
   "outputs": [],
   "source": [
    "spark.sql(f\"CREATE SCHEMA IF NOT EXISTS {schema_name}\")\n",
    "spark.sql(f\"CREATE VOLUME IF NOT EXISTS {catalog_name}.{schema_name}.inputs\")"
   ]
  },
  {
   "cell_type": "code",
   "execution_count": 0,
   "metadata": {
    "application/vnd.databricks.v1+cell": {
     "cellMetadata": {
      "byteLimit": 2048000,
      "rowLimit": 10000
     },
     "inputWidgets": {},
     "nuid": "441308ed-b02e-424e-9872-6a22231c0912",
     "showTitle": true,
     "tableResultSettingsMap": {},
     "title": "Process"
    }
   },
   "outputs": [],
   "source": [
    "#creation of Bronze tables \n",
    "# Define explicit schemas for enforcement\n",
    "claims_batch_schema = StructType([\n",
    "    StructField(\"ClaimID\", StringType(), True),\n",
    "    StructField(\"MemberID\", StringType(), True),\n",
    "    StructField(\"ProviderID\", StringType(), True),\n",
    "    StructField(\"ClaimDate\", StringType(), True),       \n",
    "    StructField(\"ServiceDate\", StringType(), True),    \n",
    "    StructField(\"Amount\", DoubleType(), True),\n",
    "    StructField(\"Status\", StringType(), True),\n",
    "    StructField(\"ICD10Codes\", StringType(), True),       \n",
    "    StructField(\"CPTCodes\", StringType(), True),        \n",
    "    StructField(\"ClaimType\", StringType(), True),\n",
    "    StructField(\"SubmissionChannel\", StringType(), True),\n",
    "    StructField(\"Notes\", StringType(), True),\n",
    "    StructField(\"IngestTimestamp\", StringType(), True)   \n",
    "])\n",
    "\n",
    "claims_stream_schema = StructType([\n",
    "    StructField(\"ClaimID\", StringType(), True),\n",
    "    StructField(\"MemberID\", StringType(), True),\n",
    "    StructField(\"ProviderID\", StringType(), True),\n",
    "    StructField(\"ClaimDate\", StringType(), True),  \n",
    "    StructField(\"Amount\", DoubleType(), True),\n",
    "    StructField(\"Status\", StringType(), True),\n",
    "    StructField(\"ICD10Codes\", StringType(), True), \n",
    "    StructField(\"CPTCodes\", StringType(), True),   \n",
    "    StructField(\"EventTimestamp\", StringType(), True)\n",
    "])\n",
    "\n",
    "diagnosis_schema = StructType([\n",
    "    StructField(\"Code\", StringType(), True),\n",
    "    StructField(\"Description\", StringType(), True)\n",
    "])\n",
    "\n",
    "members_schema = StructType([\n",
    "    StructField(\"MemberID\", StringType(), True),\n",
    "    StructField(\"Name\", StringType(), True),\n",
    "    StructField(\"DOB\", StringType(), True),               \n",
    "    StructField(\"Gender\", StringType(), True),\n",
    "    StructField(\"Region\", StringType(), True),\n",
    "    StructField(\"PlanType\", StringType(), True),\n",
    "    StructField(\"EffectiveDate\", StringType(), True),     \n",
    "    StructField(\"Email\", StringType(), True),\n",
    "    StructField(\"IsActive\", DoubleType(), True),         \n",
    "    StructField(\"LastUpdated\", StringType(), True)      \n",
    "])\n",
    "\n",
    "providers_schema = StructType([\n",
    "    StructField(\"ProviderID\", StringType(), True),\n",
    "    StructField(\"Name\", StringType(), True),\n",
    "    StructField(\"Specialties\", ArrayType(StringType()), True),\n",
    "    StructField(\"Locations\", ArrayType(StructType([\n",
    "        StructField(\"Address\", StringType(), True),\n",
    "        StructField(\"City\", StringType(), True),\n",
    "        StructField(\"State\", StringType(), True)\n",
    "    ])), True),\n",
    "    StructField(\"IsActive\", BooleanType(), True),\n",
    "    StructField(\"TIN\", StringType(), True),\n",
    "    StructField(\"LastVerified\", DateType(), True)\n",
    "])\n",
    "\n",
    "bronze_claims_batch_df = (spark.read\n",
    "            .format(\"csv\")\n",
    "            .schema(claims_batch_schema)\n",
    "            .option(\"header\", \"true\")\n",
    "            .option(\"timestampFormat\", \"yyyy-MM-dd[ HH:mm:ss]\")\n",
    "            .load(f\"{input_path}/claims_batch.csv\"))\n",
    "\n",
    "bronze_claims_stream_df = (spark.read\n",
    "                    .schema(claims_stream_schema)\n",
    "                    .json(f\"{input_path}/claims_stream.json\"))\n",
    "\n",
    "bronze_diagnosis_df = (spark.read\n",
    "               .format(\"csv\")\n",
    "               .schema(diagnosis_schema)\n",
    "               .option(\"header\", \"true\")\n",
    "               .load(f\"{input_path}/diagnosis_ref.csv\"))\n",
    "\n",
    "bronze_members_df = (spark.read\n",
    "                .format(\"csv\")\n",
    "                .schema(members_schema)\n",
    "                .option(\"header\", \"true\")\n",
    "                .load(f\"{input_path}/members.csv\"))\n",
    "\n",
    "bronze_providers_df = (spark.read\n",
    "                    .schema(providers_schema)\n",
    "                    .json(f\"{input_path}/providers.json\"))\n",
    "\n",
    "(bronze_claims_batch_df.write.format(\"delta\").mode(\"overwrite\").saveAsTable(\"medisure.bronze_claims_batch\"))\n",
    "(bronze_claims_stream_df.write.format(\"delta\").mode(\"overwrite\").saveAsTable(\"medisure.bronze_claims_stream\"))\n",
    "(bronze_diagnosis_df.write.format(\"delta\").mode(\"overwrite\").saveAsTable(\"medisure.bronze_diagnosis_ref\"))\n",
    "(bronze_members_df.write.format(\"delta\").mode(\"overwrite\").saveAsTable(\"medisure.bronze_members\"))\n",
    "(bronze_providers_df.write.format(\"delta\").mode(\"overwrite\").saveAsTable(\"medisure.bronze_providers\"))"
   ]
  }
 ],
 "metadata": {
  "application/vnd.databricks.v1+notebook": {
   "computePreferences": null,
   "dashboards": [],
   "environmentMetadata": {
    "base_environment": "",
    "environment_version": "3"
   },
   "inputWidgetPreferences": null,
   "language": "python",
   "notebookMetadata": {
    "mostRecentlyExecutedCommandWithImplicitDF": {
     "commandId": 5605245000326696,
     "dataframes": [
      "_sqldf"
     ]
    },
    "pythonIndentUnit": 4
   },
   "notebookName": "01_Bronze",
   "widgets": {}
  },
  "language_info": {
   "name": "python"
  }
 },
 "nbformat": 4,
 "nbformat_minor": 0
}
