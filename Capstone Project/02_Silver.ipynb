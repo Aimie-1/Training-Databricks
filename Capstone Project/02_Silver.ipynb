{
 "cells": [
  {
   "cell_type": "code",
   "execution_count": 0,
   "metadata": {
    "application/vnd.databricks.v1+cell": {
     "cellMetadata": {
      "byteLimit": 2048000,
      "rowLimit": 10000
     },
     "inputWidgets": {},
     "nuid": "35b1247f-1ece-49da-bf71-8c937cf8ac64",
     "showTitle": true,
     "tableResultSettingsMap": {},
     "title": "Config"
    }
   },
   "outputs": [],
   "source": [
    "#define varibles use in the scripts\n",
    "catalog_name = \"capstone_aimie_dbk\"\n",
    "schema_name = \"medisure\"\n",
    "\n",
    "#storage path\n",
    "input_path = f\"/Volumes/{catalog_name}/{schema_name}/inputs\"\n",
    "schem_path = f\"/Volumes/{catalog_name}/{schema_name}/schem\"\n",
    "bronze_path = f\"/Volumes/{catalog_name}/{schema_name}/schem/bronze\"\n",
    "\n",
    "from pyspark.sql.functions import col, explode, expr"
   ]
  },
  {
   "cell_type": "code",
   "execution_count": 0,
   "metadata": {
    "application/vnd.databricks.v1+cell": {
     "cellMetadata": {
      "byteLimit": 2048000,
      "rowLimit": 10000
     },
     "inputWidgets": {},
     "nuid": "3e06084e-a51a-410d-a2e6-31c0d86ac75a",
     "showTitle": true,
     "tableResultSettingsMap": {},
     "title": "Initiations"
    }
   },
   "outputs": [],
   "source": [
    "bronze_claims_batch_df = spark.table(f\"{catalog_name}.{schema_name}.bronze_claims_batch\")\n",
    "bronze_claims_stream_df = spark.table(f\"{catalog_name}.{schema_name}.bronze_claims_stream\")\n",
    "bronze_diagnosis_df = spark.table(f\"{catalog_name}.{schema_name}.bronze_diagnosis_ref\")\n",
    "bronze_members_df = spark.table(f\"{catalog_name}.{schema_name}.bronze_members\")\n",
    "bronze_providers_df = spark.table(f\"{catalog_name}.{schema_name}.bronze_providers\")"
   ]
  },
  {
   "cell_type": "code",
   "execution_count": 0,
   "metadata": {
    "application/vnd.databricks.v1+cell": {
     "cellMetadata": {
      "byteLimit": 2048000,
      "rowLimit": 10000
     },
     "inputWidgets": {},
     "nuid": "8e8a2169-f138-4686-8e20-f724a02bca1f",
     "showTitle": true,
     "tableResultSettingsMap": {},
     "title": "Process"
    }
   },
   "outputs": [],
   "source": [
    "silver_claims_batch_df = (\n",
    "    bronze_claims_batch_df\n",
    "    .withColumn(\"ClaimDate\", col(\"ClaimDate\").cast(\"date\"))\n",
    "    .withColumn(\"ServiceDate\", col(\"ServiceDate\").cast(\"date\"))\n",
    "    .withColumn(\"IngestTimestamp\", col(\"IngestTimestamp\").cast(\"timestamp\"))\n",
    "    .withColumn(\"ICD10Code\", explode(expr(\"split(ICD10Codes, ',')\")))\n",
    "    .withColumn(\"CPTCode\", explode(expr(\"split(CPTCodes, ',')\")))\n",
    "    .select(\n",
    "        col(\"ClaimID\"),\n",
    "        col(\"MemberID\"),\n",
    "        col(\"ProviderID\"),\n",
    "        col(\"ClaimDate\"),\n",
    "        col(\"Amount\"),\n",
    "        col(\"Status\"),\n",
    "        col(\"ICD10Code\").alias(\"ICD10Codes\"),\n",
    "        col(\"CPTCode\").alias(\"CPTCodes\"),\n",
    "        col(\"IngestTimestamp\")\n",
    "    )\n",
    ").dropna(subset=[\"ClaimID\", \"MemberID\", \"ProviderID\"]).dropDuplicates([\"ClaimID\", \"MemberID\", \"ProviderID\"]).filter((col(\"ClaimID\").isNotNull()) & (col(\"MemberID\").isNotNull()) & (col(\"ProviderID\").isNotNull()))\n",
    "\n",
    "silver_claims_stream_df = (\n",
    "    bronze_claims_stream_df\n",
    "    .withColumn(\"ClaimDate\", col(\"ClaimDate\").cast(\"date\"))\n",
    "    .withColumn(\"IngestTimestamp\", col(\"EventTimestamp\").cast(\"timestamp\"))\n",
    "    .select(\n",
    "        col(\"ClaimID\"),\n",
    "        col(\"MemberID\"),\n",
    "        col(\"ProviderID\"),\n",
    "        col(\"ClaimDate\"),\n",
    "        col(\"Amount\"),\n",
    "        col(\"Status\"),\n",
    "        col(\"ICD10Codes\"),\n",
    "        col(\"CPTCodes\"),\n",
    "        col(\"IngestTimestamp\")\n",
    "    )\n",
    ").dropna(subset=[\"ClaimID\", \"MemberID\", \"ProviderID\"]).dropDuplicates([\"ClaimID\", \"MemberID\", \"ProviderID\"]).filter((col(\"ClaimID\").isNotNull()) & (col(\"MemberID\").isNotNull()) & (col(\"ProviderID\").isNotNull()))\n",
    "\n",
    "silver_diagnosis_df = (\n",
    "    bronze_diagnosis_df\n",
    ").dropna(subset=[\"Code\"]).dropDuplicates([\"Code\"]).filter((col(\"Code\").isNotNull()) & (col(\"Description\").isNotNull()))\n",
    "\n",
    "silver_members_df = (\n",
    "    bronze_members_df\n",
    "    .withColumn(\"DOB\", col(\"DOB\").cast(\"date\"))\n",
    "    .withColumn(\"EffectiveDate\", col(\"EffectiveDate\").cast(\"date\"))\n",
    "    .withColumn(\"LastUpdated\", col(\"LastUpdated\").cast(\"date\"))\n",
    ").dropna(subset=[\"MemberID\"]).dropDuplicates([\"MemberID\"]).filter((col(\"MemberID\").isNotNull()))\n",
    "\n",
    "silver_providers_df = (\n",
    "    bronze_providers_df\n",
    "    .withColumn(\"LastVerified\", col(\"LastVerified\").cast(\"date\"))\n",
    "    .withColumn(\"Specialties\", explode(col(\"Specialties\")))\n",
    "    .withColumn(\"Location\", explode(col(\"Locations\")))\n",
    "    .select(\n",
    "        col(\"ProviderID\"),\n",
    "        col(\"Name\").alias(\"ProviderName\"),\n",
    "        col(\"Specialties\"),\n",
    "        col(\"Location.Address\").alias(\"Address\"),\n",
    "        col(\"Location.City\").alias(\"City\"),\n",
    "        col(\"Location.State\").alias(\"State\"),\n",
    "        col(\"IsActive\").alias(\"IsActiveFlag\"),\n",
    "        col(\"TIN\"),\n",
    "        col(\"LastVerified\")\n",
    "    )\n",
    ").dropna(subset=[\"ProviderID\"]).dropDuplicates([\"ProviderID\"]).filter((col(\"ProviderID\").isNotNull()))\n",
    "\n",
    "(silver_claims_batch_df.write.format(\"delta\").mode(\"overwrite\").saveAsTable(\"medisure.silver_claims_batch\"))\n",
    "(silver_claims_stream_df.write.format(\"delta\").mode(\"overwrite\").saveAsTable(\"medisure.silver_claims_stream\"))\n",
    "(silver_diagnosis_df.write.format(\"delta\").mode(\"overwrite\").saveAsTable(\"medisure.silver_diagnosis_ref\"))\n",
    "(silver_members_df.write.format(\"delta\").mode(\"overwrite\").saveAsTable(\"medisure.silver_members\"))\n",
    "(silver_providers_df.write.format(\"delta\").mode(\"overwrite\").saveAsTable(\"medisure.silver_providers\"))"
   ]
  },
  {
   "cell_type": "code",
   "execution_count": 0,
   "metadata": {
    "application/vnd.databricks.v1+cell": {
     "cellMetadata": {
      "byteLimit": 2048000,
      "rowLimit": 10000
     },
     "inputWidgets": {},
     "nuid": "096da693-5d07-4ed9-b1fe-050d14500c1b",
     "showTitle": true,
     "tableResultSettingsMap": {},
     "title": "Transform"
    }
   },
   "outputs": [],
   "source": [
    "from pyspark.sql.functions import col, when, udf, lit\n",
    "\n",
    "# Add source flag to each DataFrame\n",
    "claims_batch_with_source = silver_claims_batch_df.withColumn(\"Source\", lit(\"Batch\"))\n",
    "claims_stream_with_source = silver_claims_stream_df.withColumn(\"Source\", lit(\"Stream\"))\n",
    "\n",
    "# Union the DataFrames\n",
    "combined_claims_df = claims_batch_with_source.unionByName(claims_stream_with_source)\n",
    "\n",
    "(combined_claims_df.write.format(\"delta\").mode(\"overwrite\").saveAsTable(\"medisure.silver_claims_transform\"))"
   ]
  }
 ],
 "metadata": {
  "application/vnd.databricks.v1+notebook": {
   "computePreferences": null,
   "dashboards": [],
   "environmentMetadata": {
    "base_environment": "",
    "environment_version": "3"
   },
   "inputWidgetPreferences": null,
   "language": "python",
   "notebookMetadata": {
    "pythonIndentUnit": 4
   },
   "notebookName": "02_Silver",
   "widgets": {}
  },
  "language_info": {
   "name": "python"
  }
 },
 "nbformat": 4,
 "nbformat_minor": 0
}
