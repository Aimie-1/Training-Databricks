{
 "cells": [
  {
   "cell_type": "code",
   "execution_count": 0,
   "metadata": {
    "application/vnd.databricks.v1+cell": {
     "cellMetadata": {
      "byteLimit": 2048000,
      "rowLimit": 10000
     },
     "inputWidgets": {},
     "nuid": "d83ac91f-1c9d-444e-824d-2b944b2c5099",
     "showTitle": false,
     "tableResultSettingsMap": {},
     "title": ""
    }
   },
   "outputs": [],
   "source": [
    "#define varibles use in the scripts\n",
    "catalog_name = \"capstone_aimie_dbk\"\n",
    "schema_name = \"medisure\"\n",
    "\n",
    "#storage path\n",
    "input_path = f\"/Volumes/{catalog_name}/{schema_name}/inputs\"\n",
    "schem_path = f\"/Volumes/{catalog_name}/{schema_name}/schem\"\n",
    "bronze_path = f\"/Volumes/{catalog_name}/{schema_name}/schem/bronze\"\n",
    "\n",
    "#imports\n",
    "from pyspark.sql.functions import col, when, udf, lit\n",
    "from pyspark.sql.types import IntegerType\n"
   ]
  },
  {
   "cell_type": "code",
   "execution_count": 0,
   "metadata": {
    "application/vnd.databricks.v1+cell": {
     "cellMetadata": {
      "byteLimit": 2048000,
      "rowLimit": 10000
     },
     "inputWidgets": {},
     "nuid": "ed0db670-ac66-4ec3-bf0c-3ae91b152fcb",
     "showTitle": true,
     "tableResultSettingsMap": {},
     "title": "Initiation"
    }
   },
   "outputs": [],
   "source": [
    "combined_claims_df = spark.table(f\"{catalog_name}.{schema_name}.silver_claims_transform\")\n",
    "silver_diagnosis_df = spark.table(f\"{catalog_name}.{schema_name}.silver_diagnosis_ref\")\n",
    "silver_members_df = spark.table(f\"{catalog_name}.{schema_name}.silver_members\")\n",
    "silver_providers_df = spark.table(f\"{catalog_name}.{schema_name}.silver_providers\")"
   ]
  },
  {
   "cell_type": "code",
   "execution_count": 0,
   "metadata": {
    "application/vnd.databricks.v1+cell": {
     "cellMetadata": {
      "byteLimit": 2048000,
      "rowLimit": 10000
     },
     "inputWidgets": {},
     "nuid": "7a39d4ca-e42f-4997-8423-e77a04d9e04a",
     "showTitle": true,
     "tableResultSettingsMap": {},
     "title": "Transform and Create table"
    }
   },
   "outputs": [],
   "source": [
    "# Define a UDF for fraud scoring\n",
    "@udf(returnType=IntegerType())\n",
    "def fraud_score(amount, status):\n",
    "    if amount is None or status is None:\n",
    "        return 0\n",
    "    if amount > 10000 and status == \"Pending\":\n",
    "        return 1\n",
    "    elif amount > 5000 and status == \"Approved\":\n",
    "        return 0.5\n",
    "    else:\n",
    "        return 0\n",
    "\n",
    "# Join datasets\n",
    "gold_enriched_claims_df = (\n",
    "    combined_claims_df\n",
    "    .join(silver_members_df, \"MemberID\", \"inner\")\n",
    "    .join(silver_providers_df, \"ProviderID\", \"inner\")\n",
    "    .join(silver_diagnosis_df, col(\"ICD10Codes\") == col(\"Code\"), \"left\")\n",
    "    .withColumn(\"FraudScore\", fraud_score(col(\"Amount\"), col(\"Status\")))\n",
    "    .withColumn(\"IsValid\", when((col(\"FraudScore\") > 0) & (col(\"Status\") == \"Pending\"), \"No\")\n",
    "                          .when((col(\"FraudScore\") == 0) & (col(\"Status\") == \"Approved\"), \"Yes\")\n",
    "                          .otherwise(\"Unknown\"))\n",
    ")\n",
    "\n",
    "spark.sql(\"\"\"\n",
    "CREATE TABLE IF NOT EXISTS medisure.gold_enriched_claims (\n",
    "    ClaimID STRING,\n",
    "    MemberID STRING,\n",
    "    ProviderID STRING,\n",
    "    ClaimDate DATE,\n",
    "    Amount DOUBLE,\n",
    "    Status STRING,\n",
    "    ICD10Codes STRING,\n",
    "    CPTCodes STRING,\n",
    "    IngestTimestamp TIMESTAMP,\n",
    "    Source STRING,\n",
    "    Name STRING,\n",
    "    DOB DATE,\n",
    "    Gender STRING,\n",
    "    Region STRING,\n",
    "    PlanType STRING,\n",
    "    EffectiveDate DATE,\n",
    "    Email STRING,\n",
    "    IsActive DOUBLE,\n",
    "    LastUpdated DATE,\n",
    "    ProviderName STRING,\n",
    "    Specialties STRING,\n",
    "    Address STRING,\n",
    "    City STRING,\n",
    "    State STRING,\n",
    "    IsActiveFlag BOOLEAN,\n",
    "    TIN STRING,\n",
    "    LastVerified DATE,\n",
    "    Description STRING,\n",
    "    FraudScore INT\n",
    ")\n",
    "USING DELTA\n",
    "\"\"\")\n",
    "\n",
    "spark.sql(\"\"\"\n",
    "CREATE TABLE IF NOT EXISTS medisure.gold_enriched_claims_histo (\n",
    "    ClaimID STRING,\n",
    "    MemberID STRING,\n",
    "    ProviderID STRING,\n",
    "    ClaimDate DATE,\n",
    "    Amount DOUBLE,\n",
    "    Status STRING,\n",
    "    ICD10Codes STRING,\n",
    "    CPTCodes STRING,\n",
    "    IngestTimestamp TIMESTAMP,\n",
    "    Source STRING,\n",
    "    Name STRING,\n",
    "    DOB DATE,\n",
    "    Gender STRING,\n",
    "    Region STRING,\n",
    "    PlanType STRING,\n",
    "    EffectiveDate DATE,\n",
    "    Email STRING,\n",
    "    IsActive DOUBLE,\n",
    "    LastUpdated DATE,\n",
    "    ProviderName STRING,\n",
    "    Specialties STRING,\n",
    "    Address STRING,\n",
    "    City STRING,\n",
    "    State STRING,\n",
    "    IsActiveFlag BOOLEAN,\n",
    "    TIN STRING,\n",
    "    LastVerified DATE,\n",
    "    Description STRING,\n",
    "    FraudScore INT,\n",
    "    xBackupDate DATE\n",
    ")\n",
    "USING DELTA\n",
    "\"\"\")"
   ]
  },
  {
   "cell_type": "code",
   "execution_count": 0,
   "metadata": {
    "application/vnd.databricks.v1+cell": {
     "cellMetadata": {
      "byteLimit": 2048000,
      "rowLimit": 10000
     },
     "inputWidgets": {},
     "nuid": "5b56a7f9-9773-4c05-b35e-166be0b91aaf",
     "showTitle": false,
     "tableResultSettingsMap": {},
     "title": ""
    }
   },
   "outputs": [],
   "source": [
    "from delta.tables import DeltaTable\n",
    "\n",
    "# Define the Delta table name\n",
    "delta_table_name = \"capstone_aimie_dbk.medisure.gold_enriched_claims_histo\"\n",
    "\n",
    "# Versioning and time travel\n",
    "df_version_1 = spark.read.format(\"delta\").option(\"versionAsOf\", 1).table(delta_table_name)\n",
    "\n",
    "# Data/metadata comparison\n",
    "df_current = spark.read.format(\"delta\").table(delta_table_name)\n",
    "df_previous = spark.read.format(\"delta\").option(\"versionAsOf\", 1).table(delta_table_name)\n",
    "df_diff = df_current.exceptAll(df_previous)\n",
    "\n",
    "# Partitioning & Z-ordering\n",
    "spark.sql(\n",
    "    \"OPTIMIZE capstone_aimie_dbk.medisure.gold_enriched_claims ZORDER BY (ClaimID)\"\n",
    ")\n",
    "\n",
    "# OPTIMIZE & VACUUM with increased retention period\n",
    "spark.sql(\n",
    "    \"VACUUM capstone_aimie_dbk.medisure.gold_enriched_claims RETAIN 168 HOURS\"\n",
    ")\n",
    "\n",
    "# Implement MERGE for upserts and deduplication\n",
    "source_df = gold_enriched_claims_df\n",
    "target_table = DeltaTable.forName(\n",
    "    spark, \"capstone_aimie_dbk.medisure.gold_enriched_claims\"\n",
    ")\n",
    "\n",
    "target_table.alias(\"t\").merge(\n",
    "    source_df.alias(\"s\"),\n",
    "    (\n",
    "        \"t.ClaimID = s.ClaimID and \"\n",
    "        \"t.MemberID = s.MemberID and \"\n",
    "        \"t.ProviderID = s.ProviderID\"\n",
    "    )\n",
    ").whenMatchedUpdateAll().whenNotMatchedInsertAll().execute()\n",
    "\n",
    "# Copy data from gold_enriched_claims to gold_enriched_claims_histo for backup purposes and for restoring data if needed\n",
    "spark.sql(\"\"\"\n",
    "INSERT INTO capstone_aimie_dbk.medisure.gold_enriched_claims_histo\n",
    "SELECT *, current_date() FROM capstone_aimie_dbk.medisure.gold_enriched_claims\n",
    "\"\"\")"
   ]
  },
  {
   "cell_type": "code",
   "execution_count": 0,
   "metadata": {
    "application/vnd.databricks.v1+cell": {
     "cellMetadata": {
      "byteLimit": 2048000,
      "implicitDf": true,
      "rowLimit": 10000
     },
     "inputWidgets": {},
     "nuid": "70778686-c793-4436-8952-70c958f8efbb",
     "showTitle": false,
     "tableResultSettingsMap": {},
     "title": ""
    }
   },
   "outputs": [],
   "source": [
    "%sql\n",
    "Select * from capstone_aimie_dbk.medisure.gold_enriched_claims"
   ]
  },
  {
   "cell_type": "code",
   "execution_count": 0,
   "metadata": {
    "application/vnd.databricks.v1+cell": {
     "cellMetadata": {
      "byteLimit": 2048000,
      "implicitDf": true,
      "rowLimit": 10000
     },
     "inputWidgets": {},
     "nuid": "e3c8b51c-dabd-45a3-bfc5-9a49f7397367",
     "showTitle": false,
     "tableResultSettingsMap": {},
     "title": ""
    }
   },
   "outputs": [],
   "source": [
    "%sql\n",
    "Select * from capstone_aimie_dbk.medisure.gold_enriched_claims_histo"
   ]
  }
 ],
 "metadata": {
  "application/vnd.databricks.v1+notebook": {
   "computePreferences": null,
   "dashboards": [],
   "environmentMetadata": {
    "base_environment": "",
    "environment_version": "3"
   },
   "inputWidgetPreferences": null,
   "language": "python",
   "notebookMetadata": {
    "mostRecentlyExecutedCommandWithImplicitDF": {
     "commandId": 4600797681264182,
     "dataframes": [
      "_sqldf"
     ]
    },
    "pythonIndentUnit": 4
   },
   "notebookName": "03_Gold",
   "widgets": {}
  },
  "language_info": {
   "name": "python"
  }
 },
 "nbformat": 4,
 "nbformat_minor": 0
}
